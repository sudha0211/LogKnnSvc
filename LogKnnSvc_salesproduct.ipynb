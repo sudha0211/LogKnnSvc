{
 "cells": [
  {
   "cell_type": "code",
   "execution_count": 54,
   "id": "b081cab0-30bb-4213-bbdd-160f410c9864",
   "metadata": {},
   "outputs": [],
   "source": [
    "import pandas as pd\n",
    "import numpy as np\n",
    "import seaborn as sns"
   ]
  },
  {
   "cell_type": "code",
   "execution_count": 56,
   "id": "1c5e0019-8989-43f7-89b9-6d67a9adf615",
   "metadata": {},
   "outputs": [
    {
     "data": {
      "text/html": [
       "<div>\n",
       "<style scoped>\n",
       "    .dataframe tbody tr th:only-of-type {\n",
       "        vertical-align: middle;\n",
       "    }\n",
       "\n",
       "    .dataframe tbody tr th {\n",
       "        vertical-align: top;\n",
       "    }\n",
       "\n",
       "    .dataframe thead th {\n",
       "        text-align: right;\n",
       "    }\n",
       "</style>\n",
       "<table border=\"1\" class=\"dataframe\">\n",
       "  <thead>\n",
       "    <tr style=\"text-align: right;\">\n",
       "      <th></th>\n",
       "      <th>Age</th>\n",
       "      <th>Income</th>\n",
       "      <th>Product_Category</th>\n",
       "      <th>Payment_Method</th>\n",
       "      <th>Purchase_Amount</th>\n",
       "      <th>Income_Group</th>\n",
       "      <th>Age_Group</th>\n",
       "      <th>Purchase_Status</th>\n",
       "    </tr>\n",
       "  </thead>\n",
       "  <tbody>\n",
       "    <tr>\n",
       "      <th>0</th>\n",
       "      <td>56</td>\n",
       "      <td>23343</td>\n",
       "      <td>Electronics</td>\n",
       "      <td>Debit Card</td>\n",
       "      <td>87.903878</td>\n",
       "      <td>Low</td>\n",
       "      <td>Senior</td>\n",
       "      <td>0</td>\n",
       "    </tr>\n",
       "    <tr>\n",
       "      <th>1</th>\n",
       "      <td>69</td>\n",
       "      <td>33500</td>\n",
       "      <td>Sports</td>\n",
       "      <td>Debit Card</td>\n",
       "      <td>56.761081</td>\n",
       "      <td>Low</td>\n",
       "      <td>Senior</td>\n",
       "      <td>0</td>\n",
       "    </tr>\n",
       "    <tr>\n",
       "      <th>2</th>\n",
       "      <td>46</td>\n",
       "      <td>73222</td>\n",
       "      <td>Beauty</td>\n",
       "      <td>PayPal</td>\n",
       "      <td>320.032974</td>\n",
       "      <td>Medium</td>\n",
       "      <td>Middle-aged</td>\n",
       "      <td>0</td>\n",
       "    </tr>\n",
       "    <tr>\n",
       "      <th>3</th>\n",
       "      <td>32</td>\n",
       "      <td>49375</td>\n",
       "      <td>Electronics</td>\n",
       "      <td>PayPal</td>\n",
       "      <td>354.705485</td>\n",
       "      <td>Medium</td>\n",
       "      <td>Middle-aged</td>\n",
       "      <td>0</td>\n",
       "    </tr>\n",
       "    <tr>\n",
       "      <th>4</th>\n",
       "      <td>60</td>\n",
       "      <td>29662</td>\n",
       "      <td>Beauty</td>\n",
       "      <td>Debit Card</td>\n",
       "      <td>20.635142</td>\n",
       "      <td>Low</td>\n",
       "      <td>Senior</td>\n",
       "      <td>1</td>\n",
       "    </tr>\n",
       "  </tbody>\n",
       "</table>\n",
       "</div>"
      ],
      "text/plain": [
       "   Age  Income Product_Category Payment_Method  Purchase_Amount Income_Group  \\\n",
       "0   56   23343      Electronics     Debit Card        87.903878          Low   \n",
       "1   69   33500           Sports     Debit Card        56.761081          Low   \n",
       "2   46   73222           Beauty         PayPal       320.032974       Medium   \n",
       "3   32   49375      Electronics         PayPal       354.705485       Medium   \n",
       "4   60   29662           Beauty     Debit Card        20.635142          Low   \n",
       "\n",
       "     Age_Group  Purchase_Status  \n",
       "0       Senior                0  \n",
       "1       Senior                0  \n",
       "2  Middle-aged                0  \n",
       "3  Middle-aged                0  \n",
       "4       Senior                1  "
      ]
     },
     "execution_count": 56,
     "metadata": {},
     "output_type": "execute_result"
    }
   ],
   "source": [
    "data=pd.read_csv(\"F:/MachineLearing/sales_product.csv\")\n",
    "data.head()"
   ]
  },
  {
   "cell_type": "code",
   "execution_count": 58,
   "id": "cfa3eb4e-fa34-4796-a7d0-ed4c15626b08",
   "metadata": {},
   "outputs": [
    {
     "data": {
      "text/plain": [
       "Age                 0\n",
       "Income              0\n",
       "Product_Category    0\n",
       "Payment_Method      0\n",
       "Purchase_Amount     0\n",
       "Income_Group        0\n",
       "Age_Group           0\n",
       "Purchase_Status     0\n",
       "dtype: int64"
      ]
     },
     "execution_count": 58,
     "metadata": {},
     "output_type": "execute_result"
    }
   ],
   "source": [
    "data.isnull().sum()"
   ]
  },
  {
   "cell_type": "code",
   "execution_count": 60,
   "id": "0f1f2dc2-ca4d-43b7-afd1-1d1ec34c60a6",
   "metadata": {},
   "outputs": [],
   "source": [
    "#Labelencoder=> use for text to numeric value\n",
    "from sklearn.preprocessing import LabelEncoder"
   ]
  },
  {
   "cell_type": "code",
   "execution_count": 62,
   "id": "47126878-3584-4216-987b-a105444d36cb",
   "metadata": {},
   "outputs": [
    {
     "name": "stdout",
     "output_type": "stream",
     "text": [
      "<class 'pandas.core.frame.DataFrame'>\n",
      "RangeIndex: 500 entries, 0 to 499\n",
      "Data columns (total 8 columns):\n",
      " #   Column            Non-Null Count  Dtype  \n",
      "---  ------            --------------  -----  \n",
      " 0   Age               500 non-null    int64  \n",
      " 1   Income            500 non-null    int64  \n",
      " 2   Product_Category  500 non-null    object \n",
      " 3   Payment_Method    500 non-null    object \n",
      " 4   Purchase_Amount   500 non-null    float64\n",
      " 5   Income_Group      500 non-null    object \n",
      " 6   Age_Group         500 non-null    object \n",
      " 7   Purchase_Status   500 non-null    int64  \n",
      "dtypes: float64(1), int64(3), object(4)\n",
      "memory usage: 31.4+ KB\n"
     ]
    }
   ],
   "source": [
    "data.info()"
   ]
  },
  {
   "cell_type": "code",
   "execution_count": 64,
   "id": "76f0f042-b33d-4e2e-8846-ec44afb1c5d6",
   "metadata": {},
   "outputs": [],
   "source": [
    "#create object of class\n",
    "lable=LabelEncoder()"
   ]
  },
  {
   "cell_type": "code",
   "execution_count": 66,
   "id": "17db4ca8-7419-4d14-b4f4-094b60f736e1",
   "metadata": {},
   "outputs": [
    {
     "data": {
      "text/html": [
       "<div>\n",
       "<style scoped>\n",
       "    .dataframe tbody tr th:only-of-type {\n",
       "        vertical-align: middle;\n",
       "    }\n",
       "\n",
       "    .dataframe tbody tr th {\n",
       "        vertical-align: top;\n",
       "    }\n",
       "\n",
       "    .dataframe thead th {\n",
       "        text-align: right;\n",
       "    }\n",
       "</style>\n",
       "<table border=\"1\" class=\"dataframe\">\n",
       "  <thead>\n",
       "    <tr style=\"text-align: right;\">\n",
       "      <th></th>\n",
       "      <th>Age</th>\n",
       "      <th>Income</th>\n",
       "      <th>Product_Category</th>\n",
       "      <th>Payment_Method</th>\n",
       "      <th>Purchase_Amount</th>\n",
       "      <th>Income_Group</th>\n",
       "      <th>Age_Group</th>\n",
       "      <th>Purchase_Status</th>\n",
       "    </tr>\n",
       "  </thead>\n",
       "  <tbody>\n",
       "    <tr>\n",
       "      <th>0</th>\n",
       "      <td>56</td>\n",
       "      <td>23343</td>\n",
       "      <td>2</td>\n",
       "      <td>2</td>\n",
       "      <td>87.903878</td>\n",
       "      <td>1</td>\n",
       "      <td>1</td>\n",
       "      <td>0</td>\n",
       "    </tr>\n",
       "    <tr>\n",
       "      <th>1</th>\n",
       "      <td>69</td>\n",
       "      <td>33500</td>\n",
       "      <td>4</td>\n",
       "      <td>2</td>\n",
       "      <td>56.761081</td>\n",
       "      <td>1</td>\n",
       "      <td>1</td>\n",
       "      <td>0</td>\n",
       "    </tr>\n",
       "    <tr>\n",
       "      <th>2</th>\n",
       "      <td>46</td>\n",
       "      <td>73222</td>\n",
       "      <td>0</td>\n",
       "      <td>3</td>\n",
       "      <td>320.032974</td>\n",
       "      <td>2</td>\n",
       "      <td>0</td>\n",
       "      <td>0</td>\n",
       "    </tr>\n",
       "    <tr>\n",
       "      <th>3</th>\n",
       "      <td>32</td>\n",
       "      <td>49375</td>\n",
       "      <td>2</td>\n",
       "      <td>3</td>\n",
       "      <td>354.705485</td>\n",
       "      <td>2</td>\n",
       "      <td>0</td>\n",
       "      <td>0</td>\n",
       "    </tr>\n",
       "    <tr>\n",
       "      <th>4</th>\n",
       "      <td>60</td>\n",
       "      <td>29662</td>\n",
       "      <td>0</td>\n",
       "      <td>2</td>\n",
       "      <td>20.635142</td>\n",
       "      <td>1</td>\n",
       "      <td>1</td>\n",
       "      <td>1</td>\n",
       "    </tr>\n",
       "  </tbody>\n",
       "</table>\n",
       "</div>"
      ],
      "text/plain": [
       "   Age  Income  Product_Category  Payment_Method  Purchase_Amount  \\\n",
       "0   56   23343                 2               2        87.903878   \n",
       "1   69   33500                 4               2        56.761081   \n",
       "2   46   73222                 0               3       320.032974   \n",
       "3   32   49375                 2               3       354.705485   \n",
       "4   60   29662                 0               2        20.635142   \n",
       "\n",
       "   Income_Group  Age_Group  Purchase_Status  \n",
       "0             1          1                0  \n",
       "1             1          1                0  \n",
       "2             2          0                0  \n",
       "3             2          0                0  \n",
       "4             1          1                1  "
      ]
     },
     "execution_count": 66,
     "metadata": {},
     "output_type": "execute_result"
    }
   ],
   "source": [
    "# create new columns(input('Company')) instance of company,job,degree\n",
    "\n",
    "data['Product_Category'] = lable.fit_transform(data['Product_Category'])\n",
    "data['Payment_Method']=lable.fit_transform(data['Payment_Method'])\n",
    "data['Income_Group']=lable.fit_transform(data['Income_Group'])\n",
    "data['Age_Group']=lable.fit_transform(data['Age_Group'])\n",
    "\n",
    "data.head()"
   ]
  },
  {
   "cell_type": "code",
   "execution_count": 68,
   "id": "506d2c11-1b60-4d74-b61c-8f8f0c571acc",
   "metadata": {},
   "outputs": [],
   "source": [
    "x=data.iloc[:,0:7]\n",
    "y=data.iloc[:,7]"
   ]
  },
  {
   "cell_type": "code",
   "execution_count": 70,
   "id": "c6665289-eef8-432c-a4ce-d08340d50cf6",
   "metadata": {},
   "outputs": [],
   "source": [
    "from sklearn.model_selection import train_test_split\n",
    "x_train,x_test,y_train,y_test=train_test_split(x,y,test_size=0.2,random_state=0)"
   ]
  },
  {
   "cell_type": "code",
   "execution_count": 72,
   "id": "7cc74005-4ab8-44f0-b82d-cfada11cf4d1",
   "metadata": {},
   "outputs": [
    {
     "data": {
      "text/html": [
       "<div>\n",
       "<style scoped>\n",
       "    .dataframe tbody tr th:only-of-type {\n",
       "        vertical-align: middle;\n",
       "    }\n",
       "\n",
       "    .dataframe tbody tr th {\n",
       "        vertical-align: top;\n",
       "    }\n",
       "\n",
       "    .dataframe thead th {\n",
       "        text-align: right;\n",
       "    }\n",
       "</style>\n",
       "<table border=\"1\" class=\"dataframe\">\n",
       "  <thead>\n",
       "    <tr style=\"text-align: right;\">\n",
       "      <th></th>\n",
       "      <th>Age</th>\n",
       "      <th>Income</th>\n",
       "      <th>Product_Category</th>\n",
       "      <th>Payment_Method</th>\n",
       "      <th>Purchase_Amount</th>\n",
       "      <th>Income_Group</th>\n",
       "      <th>Age_Group</th>\n",
       "    </tr>\n",
       "  </thead>\n",
       "  <tbody>\n",
       "    <tr>\n",
       "      <th>107</th>\n",
       "      <td>61</td>\n",
       "      <td>103042</td>\n",
       "      <td>3</td>\n",
       "      <td>1</td>\n",
       "      <td>369.518998</td>\n",
       "      <td>0</td>\n",
       "      <td>1</td>\n",
       "    </tr>\n",
       "    <tr>\n",
       "      <th>336</th>\n",
       "      <td>50</td>\n",
       "      <td>89172</td>\n",
       "      <td>2</td>\n",
       "      <td>1</td>\n",
       "      <td>334.131304</td>\n",
       "      <td>0</td>\n",
       "      <td>1</td>\n",
       "    </tr>\n",
       "  </tbody>\n",
       "</table>\n",
       "</div>"
      ],
      "text/plain": [
       "     Age  Income  Product_Category  Payment_Method  Purchase_Amount  \\\n",
       "107   61  103042                 3               1       369.518998   \n",
       "336   50   89172                 2               1       334.131304   \n",
       "\n",
       "     Income_Group  Age_Group  \n",
       "107             0          1  \n",
       "336             0          1  "
      ]
     },
     "execution_count": 72,
     "metadata": {},
     "output_type": "execute_result"
    }
   ],
   "source": [
    "x_train.head(2)"
   ]
  },
  {
   "cell_type": "code",
   "execution_count": 74,
   "id": "79dd4af0-a533-4846-95fc-e9fd0181ed71",
   "metadata": {},
   "outputs": [
    {
     "data": {
      "text/plain": [
       "107    0\n",
       "336    0\n",
       "Name: Purchase_Status, dtype: int64"
      ]
     },
     "execution_count": 74,
     "metadata": {},
     "output_type": "execute_result"
    }
   ],
   "source": [
    "y_train.head(2)"
   ]
  },
  {
   "cell_type": "code",
   "execution_count": 76,
   "id": "f0bc9d77-79f0-46b5-a9a6-96b648e1d612",
   "metadata": {},
   "outputs": [],
   "source": [
    "from sklearn.preprocessing import StandardScaler\n",
    "sc=StandardScaler()\n",
    "x_train=sc.fit_transform(x_train)\n",
    "x_test=sc.fit_transform(x_test)"
   ]
  },
  {
   "cell_type": "code",
   "execution_count": 78,
   "id": "273c91e4-682c-43d6-96ea-049506c563dc",
   "metadata": {},
   "outputs": [
    {
     "data": {
      "text/plain": [
       "(400, 7)"
      ]
     },
     "execution_count": 78,
     "metadata": {},
     "output_type": "execute_result"
    }
   ],
   "source": [
    "x_train.shape"
   ]
  },
  {
   "cell_type": "code",
   "execution_count": 80,
   "id": "d25945f5-b3c5-41ca-a20e-6568cb3d77ff",
   "metadata": {},
   "outputs": [
    {
     "data": {
      "text/plain": [
       "(100, 7)"
      ]
     },
     "execution_count": 80,
     "metadata": {},
     "output_type": "execute_result"
    }
   ],
   "source": [
    "x_test.shape"
   ]
  },
  {
   "cell_type": "code",
   "execution_count": 82,
   "id": "9f12f285-dc0a-4fae-95cc-06ca6d81224e",
   "metadata": {},
   "outputs": [],
   "source": [
    "from sklearn.linear_model import LogisticRegression"
   ]
  },
  {
   "cell_type": "code",
   "execution_count": 84,
   "id": "87efb1d3-43bc-48ce-b8b2-0a83244d4228",
   "metadata": {},
   "outputs": [
    {
     "name": "stdout",
     "output_type": "stream",
     "text": [
      "y_pred: [0 0 0 0 0 0 0 0 0 0 0 0 0 0 0 0 0 0 0 0 0 0 0 0 0 0 0 0 0 0 0 0 0 0 0 0 0\n",
      " 0 0 0 0 0 0 0 0 0 0 0 0 0 0 0 0 0 0 0 0 0 0 0 0 0 0 0 0 0 0 0 0 0 0 0 0 0\n",
      " 0 0 0 0 0 0 0 0 0 0 0 0 0 0 0 0 0 0 0 0 0 0 0 0 0 0]\n",
      "y_test: 90     0\n",
      "254    0\n",
      "283    0\n",
      "445    0\n",
      "461    0\n",
      "      ..\n",
      "372    0\n",
      "56     1\n",
      "440    1\n",
      "60     0\n",
      "208    0\n",
      "Name: Purchase_Status, Length: 100, dtype: int64\n"
     ]
    }
   ],
   "source": [
    "model=LogisticRegression(solver='lbfgs',max_iter=100,C=1)\n",
    "model.fit(x_train,y_train)\n",
    "y_pred=model.predict(x_test)\n",
    "print('y_pred:',y_pred)\n",
    "print('y_test:',y_test)"
   ]
  },
  {
   "cell_type": "code",
   "execution_count": 86,
   "id": "012fe4ac-be78-4e61-b7fe-43f96572533c",
   "metadata": {},
   "outputs": [],
   "source": [
    "from sklearn.metrics import accuracy_score,confusion_matrix"
   ]
  },
  {
   "cell_type": "code",
   "execution_count": 88,
   "id": "ef128d08-817b-47e8-8777-89bbb0d1aaac",
   "metadata": {},
   "outputs": [
    {
     "name": "stdout",
     "output_type": "stream",
     "text": [
      "Accuracy_score of LogisticRegression :  0.88\n"
     ]
    }
   ],
   "source": [
    "acc=accuracy_score(y_test,y_pred)\n",
    "print(\"Accuracy_score of LogisticRegression : \",acc)"
   ]
  },
  {
   "cell_type": "code",
   "execution_count": 90,
   "id": "eb48da27-f002-465a-93d1-e99186b7419c",
   "metadata": {},
   "outputs": [
    {
     "name": "stdout",
     "output_type": "stream",
     "text": [
      "confusion_matrix of LogisticRegression : [[88  0]\n",
      " [12  0]]\n"
     ]
    }
   ],
   "source": [
    "cm=confusion_matrix(y_test,y_pred)\n",
    "print(\"confusion_matrix of LogisticRegression :\",cm)"
   ]
  },
  {
   "cell_type": "code",
   "execution_count": 92,
   "id": "3127c9cc-bf4f-4804-ad8f-7f777cc94e00",
   "metadata": {},
   "outputs": [
    {
     "name": "stdout",
     "output_type": "stream",
     "text": [
      "Accuracy_score of DecisionTreeClassifier : 0.77\n"
     ]
    }
   ],
   "source": [
    "#DecisionTreeClassifier\n",
    "from sklearn import tree\n",
    "model1=tree.DecisionTreeClassifier()\n",
    "model1.fit(x_train,y_train)\n",
    "y_pre=model1.predict(x_test)\n",
    "acc_score=accuracy_score(y_test,y_pre)\n",
    "print(\"Accuracy_score of DecisionTreeClassifier :\",acc_score)"
   ]
  },
  {
   "cell_type": "code",
   "execution_count": 94,
   "id": "7c6abb3c-eb7c-422e-8507-89d82245a3b7",
   "metadata": {},
   "outputs": [
    {
     "name": "stdout",
     "output_type": "stream",
     "text": [
      "confusion_matrix of DecisionTreeClassifier : [[74 14]\n",
      " [ 9  3]]\n"
     ]
    }
   ],
   "source": [
    "cm1=confusion_matrix(y_test,y_pre)\n",
    "print(\"confusion_matrix of DecisionTreeClassifier :\",cm1)"
   ]
  },
  {
   "cell_type": "code",
   "execution_count": 96,
   "id": "77616325-2044-4b41-acfe-1c31153a9dd2",
   "metadata": {},
   "outputs": [
    {
     "name": "stdout",
     "output_type": "stream",
     "text": [
      "Accuracy_score of SVC : 0.88\n"
     ]
    }
   ],
   "source": [
    "#model=SVC(kernel='rbf',max_iter=-1)\n",
    "from sklearn.svm import SVC\n",
    "model2 = SVC(kernel='linear', random_state=0)  \n",
    "model2.fit(x_train,y_train)\n",
    "y_pred2=model2.predict(x_test)\n",
    "acc_score=accuracy_score(y_test,y_pred2)\n",
    "print(\"Accuracy_score of SVC :\",acc_score)"
   ]
  },
  {
   "cell_type": "code",
   "execution_count": 98,
   "id": "3ac3bada-abdb-476d-ba60-f92fdcde463b",
   "metadata": {},
   "outputs": [
    {
     "name": "stdout",
     "output_type": "stream",
     "text": [
      "confusion_matrix of SVC : [[88  0]\n",
      " [12  0]]\n"
     ]
    }
   ],
   "source": [
    "cm2=confusion_matrix(y_test,y_pred2)\n",
    "print(\"confusion_matrix of SVC :\",cm2)"
   ]
  },
  {
   "cell_type": "code",
   "execution_count": null,
   "id": "64ca49e5-35bb-4acd-8194-ca64fb2758bf",
   "metadata": {},
   "outputs": [],
   "source": []
  },
  {
   "cell_type": "code",
   "execution_count": null,
   "id": "44894bc8-6a2e-4848-9791-d1ea933dab48",
   "metadata": {},
   "outputs": [],
   "source": []
  }
 ],
 "metadata": {
  "kernelspec": {
   "display_name": "Python 3 (ipykernel)",
   "language": "python",
   "name": "python3"
  },
  "language_info": {
   "codemirror_mode": {
    "name": "ipython",
    "version": 3
   },
   "file_extension": ".py",
   "mimetype": "text/x-python",
   "name": "python",
   "nbconvert_exporter": "python",
   "pygments_lexer": "ipython3",
   "version": "3.12.4"
  }
 },
 "nbformat": 4,
 "nbformat_minor": 5
}
